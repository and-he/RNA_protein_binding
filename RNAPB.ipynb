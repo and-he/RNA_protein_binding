{
  "nbformat": 4,
  "nbformat_minor": 0,
  "metadata": {
    "colab": {
      "name": "RNAPB.ipynb",
      "provenance": []
    },
    "kernelspec": {
      "name": "python3",
      "display_name": "Python 3"
    }
  },
  "cells": [
    {
      "cell_type": "code",
      "metadata": {
        "id": "lCrMfEvJA0J1"
      },
      "source": [
        "import numpy as np"
      ],
      "execution_count": null,
      "outputs": []
    },
    {
      "cell_type": "code",
      "metadata": {
        "id": "07-Sl-pP_4re"
      },
      "source": [
        "def padding_sequence(seq, max_len = 501, repkey = 'N'):\r\n",
        "    seq_len = len(seq)\r\n",
        "    if seq_len < max_len:\r\n",
        "        gap_len = max_len -seq_len\r\n",
        "        new_seq = seq + repkey * gap_len\r\n",
        "    else:\r\n",
        "        new_seq = seq[:max_len]\r\n",
        "    return new_seq"
      ],
      "execution_count": null,
      "outputs": []
    },
    {
      "cell_type": "code",
      "metadata": {
        "id": "2O9jB2aHAoC1"
      },
      "source": [
        "def get_RNA_seq_convolutional_array(seq, motif_len = 4):\r\n",
        "    seq = seq.replace('U', 'T')\r\n",
        "    alpha = 'ACGT'\r\n",
        "    #for seq in seqs:\r\n",
        "    #for key, seq in seqs.iteritems():\r\n",
        "    row = (len(seq) + 2*motif_len - 2)\r\n",
        "    new_array = np.zeros((row, 4))\r\n",
        "    for i in range(motif_len-1):\r\n",
        "        new_array[i] = np.array([0.25]*4)\r\n",
        "    \r\n",
        "    for i in range(row-3, row):\r\n",
        "        new_array[i] = np.array([0.25]*4)\r\n",
        "        \r\n",
        "    #pdb.set_trace()\r\n",
        "    for i, val in enumerate(seq):\r\n",
        "        i = i + motif_len-1\r\n",
        "        if val not in 'ACGT':\r\n",
        "            new_array[i] = np.array([0.25]*4)\r\n",
        "            continue\r\n",
        "        #if val == 'N' or i < motif_len or i > len(seq) - motif_len:\r\n",
        "        #    new_array[i] = np.array([0.25]*4)\r\n",
        "        #else:\r\n",
        "        try:\r\n",
        "            index = alpha.index(val)\r\n",
        "            new_array[i][index] = 1\r\n",
        "        except:\r\n",
        "            pdb.set_trace()\r\n",
        "        #data[key] = new_array\r\n",
        "    return new_array"
      ],
      "execution_count": null,
      "outputs": []
    },
    {
      "cell_type": "code",
      "metadata": {
        "id": "EPUPANsmAp3H"
      },
      "source": [
        "def get_bag_data_1_channel(data, max_len = 501):\r\n",
        "    bags = []\r\n",
        "    seqs = data[\"seq\"]\r\n",
        "    labels = data[\"Y\"]\r\n",
        "    for seq in seqs:\r\n",
        "        #pdb.set_trace()\r\n",
        "        #bag_seqs = split_overlap_seq(seq)\r\n",
        "        bag_seq = padding_sequence(seq, max_len = max_len)\r\n",
        "        #flat_array = []\r\n",
        "        bag_subt = []\r\n",
        "        #for bag_seq in bag_seqs:\r\n",
        "        tri_fea = get_RNA_seq_convolutional_array(bag_seq)\r\n",
        "        bag_subt.append(tri_fea.T)\r\n",
        "\r\n",
        "        \r\n",
        "        bags.append(np.array(bag_subt))\r\n",
        "    \r\n",
        "        \r\n",
        "    return bags, labels"
      ],
      "execution_count": null,
      "outputs": []
    },
    {
      "cell_type": "code",
      "metadata": {
        "id": "_0zgk-mT_6YQ"
      },
      "source": [
        "def read_seq_graphprot(seq_file, label = 1):\r\n",
        "    seq_list = []\r\n",
        "    labels = []\r\n",
        "    seq = ''\r\n",
        "    with open(seq_file, 'r') as fp:\r\n",
        "        for line in fp:\r\n",
        "            if line[0] == '>':\r\n",
        "                name = line[1:-1]\r\n",
        "                print(f\"In read_seq_graphprot, name is {name}\\n\")\r\n",
        "            else:\r\n",
        "                seq = line[:-1].upper()\r\n",
        "                seq = seq.replace('T', 'U')\r\n",
        "                print(f\"In read_seq_graphprot, seq is {seq}\\n\")\r\n",
        "                seq_list.append(seq)\r\n",
        "                labels.append(label)\r\n",
        "    \r\n",
        "    return seq_list, labels"
      ],
      "execution_count": null,
      "outputs": []
    },
    {
      "cell_type": "code",
      "metadata": {
        "id": "1-iuSL9u_rbn"
      },
      "source": [
        "def read_data_file(posifile, negafile = None, train = True):\r\n",
        "    data = dict()\r\n",
        "    seqs, labels = read_seq_graphprot(posifile, label = 1)\r\n",
        "    if negafile:\r\n",
        "        seqs2, labels2 = read_seq_graphprot(negafile, label = 0)\r\n",
        "        seqs = seqs + seqs2\r\n",
        "        labels = labels + labels2\r\n",
        "        \r\n",
        "    data[\"seq\"] = seqs\r\n",
        "    data[\"Y\"] = np.array(labels)\r\n",
        "    \r\n",
        "    return data"
      ],
      "execution_count": null,
      "outputs": []
    },
    {
      "cell_type": "code",
      "metadata": {
        "id": "1Gsc5Myc_tSn"
      },
      "source": [
        "def get_data(posi, nega = None, channel = 7,  window_size = 101, train = True):\r\n",
        "    data = read_data_file(posi, nega, train = train)\r\n",
        "    print(f\"In get_data, data has length {len(data['seq'])}\")\r\n",
        "    if channel == 1:\r\n",
        "        train_bags, label = get_bag_data_1_channel(data, max_len = window_size)\r\n",
        "\r\n",
        "    else:\r\n",
        "        train_bags, label = get_bag_data(data, channel = channel, window_size = window_size)\r\n",
        "    \r\n",
        "    return train_bags, label"
      ],
      "execution_count": null,
      "outputs": []
    },
    {
      "cell_type": "code",
      "metadata": {
        "colab": {
          "base_uri": "https://localhost:8080/"
        },
        "id": "9V2M_ZVC_xUU",
        "outputId": "e06e7cd0-9a6f-465e-a0dd-e1c819fef6cc"
      },
      "source": [
        "f, l = get_data('./CLIPSEQ_AGO2.train.positives.sample.fa', channel=1)"
      ],
      "execution_count": null,
      "outputs": [
        {
          "output_type": "stream",
          "text": [
            "In read_seq_graphprot, name is NM_152996_1044_1083;chr1,77094453,77094493,+\n",
            "\n",
            "In read_seq_graphprot, seq is GGACAGAAGGGUAUAGAAAAGUCCCCUACCAUUAUUAUGAACAAGGAAGAGAUGAGUGUGAUGAAUAUUUUCUUCAUGAACAUGCCCCAUAUGGGGGUCAUAGGUUUAUCACUGAAAAGAAAGUGUUUGCUAAAUGGGCCAAGAAGCACAGGAUAAUAUUUACACAUCCAAACUGGACAUUGUCUUGAUAAUGGUUUUCCUGAUCUUGCCGCAUCACUUAAUGUGAUCCCCAUACUGCAACUGUGAUGCUGAUGAUGCUAAUGGAGAUGAUGGUAAUGAUAAAGACAACAACAAUGAUUAUCAAGUUCCUGUACACUCUCAGAUGUGGAUGGUGACUCUG\n",
            "\n",
            "In read_seq_graphprot, name is NM_001142761_1727_1766;chr15,40686182,40686222,+\n",
            "\n",
            "In read_seq_graphprot, seq is ACAAGAGAGGGGAGCCUAGGAGCUUGGAUUGACCUUCUAGUCAACCACCUGACUUCAGCACACCAUUACAAUCGGGAGACUAAACCAACAACCAGAGGAUCUAAAAUGUCACAUUCAGAUUUUCAGGAAGAAAAUCUUCAUUACAGUGGAGCACAAAUGUUCCAUACAAGACAUCAUUGAGGAGCCAUGCUGUCCCCUUCUAACCUGAAACACAUUCUUUCCCAUCCUGGUUGGGCUUCUGUACCUCCUUAUUAAUUUAUGAACCUGAAGUUGCUUGAAGUGUUUUGGGCUUAAUAAAUGGGGUGAAAGUAUAGGUAGCAGUAACACCUACAUGAAACAA\n",
            "\n",
            "In read_seq_graphprot, name is NM_013411_2240_2279;chr1,33474912,33474952,-\n",
            "\n",
            "In read_seq_graphprot, seq is AUCCAGAUAUACACAGAAAGAUAUCUGCUUCCUGCCAGGCUGGAUAACUGUUGAAUGGACACUUGUCCAUAGUCUAGAAAGCCAGUGCUUCUAAUCCUUAAGCCAGAUCUUUGACUACCUUUUCAGUUGCUUCUUUAACACUCUUUGUUGCUUCUCUGUGUGUCCUAGUUUAAAUUCAUUUCCUCUCCAGCAAAAGUGAGCUUAAAUAAUUUCUCCAAACUAAAGCUCUCAUGUUUUUGGAAGGGCUGCCUUUGCAAGUGAGGUUUCUGAGAAAUGACUGUUGUUCCCAAAACAAGAGGGAGCUGGGCUGGAAGCACCACUAUUCUUCUUUAGGCAUCUU\n",
            "\n",
            "In read_seq_graphprot, name is NM_003601_3631_3670;chr4,144474346,144474386,+\n",
            "\n",
            "In read_seq_graphprot, seq is UGUUAUAAUGUGUCUGCAACUAUAUUUCAUGUUUAUAUUAGUCUUGUGAAAAGUAAUCCUUCUGUCUGUUUGUAGACACAGAAACGUAAAAUGGAUGGCGCACCUGAUGGUCGAGGAAGAAAAAAGAAGCUGAAACUAUGAAUAUGUUUUUGUUUCAUAAUCACUAACUUUAAACCAGUAGUUCUUUAAUUUACGGGUCUUCAUAAGAUGUACUGUACAAUGCUCAAUUGUUAUGUCAUUUAAAGACAUCAGGUUCAUCUGUUUACUGAGCUAGAAACAUAGUAUGUAGUUUCACUUUUUUAAAUGCAACAGCUGUGCUGAAAUUUUUUUAUCAUUAACA\n",
            "\n",
            "In read_seq_graphprot, name is NM_015285_2807_2846;chr18,54424419,54424459,+\n",
            "\n",
            "In read_seq_graphprot, seq is CUGGAUGAAGUUUGCCUGGAUCGCCUUGGAAUGCUGAAACCCCACUGCACCGUAUCGUUUGGCCUCUUGUCAAGAGGAGGCCAUAUGUCACUGAUGCUGCCGGGUUAUAAUCAGCCUGCUUGUAAACUGUCACAUGGGAAAACAGAAGUAGGAAGGAAGCUGCCAGCGUCUGAGGGAGUAGGAAAGGGAACUUACGGAGUGUCCCGUGCCGUCACCACACAGCAUCUCCUGUCUAUCAUUUCUUUGGCAAAUACUUUAAUGAGUAUGACCAAUGCAACUUUUAUUGGUGAUCAUAUGAAGAAGGGUCCUACCAGGUGUGACCAUGAUAGUUUGAUUUUAU\n",
            "\n",
            "In read_seq_graphprot, name is NM_016604_6615_6654;chr5,137772517,137772557,+\n",
            "\n",
            "In read_seq_graphprot, seq is CUCCUCUUAAUGUUUCCAAAUGGGAAGGACAGUUGAUUUCCAACAUGAGGUUUUUUGUUUUUUAUCCAGAAAUAUUUUCAGCAAAACUUUCCAACUGAGUGGAGUCUGAUUAAGGAUUUAUUUGAAAAUGGUGGGAUUCAUUGGCCCAUAGGUACAUUGGAAAAUGUAUAUCUCUCCAGCUGUACUGUAGUGCCCUGCAGGCUGUUUAUAUGUUCACAGUUACUUUUUUUUUUUUUUUUAAAUAAAAGUCAUUUAAUGUAGAAUACUUUUAAUUUCACUUUCUGUAUUUUAAUUUUGUUGAAGGGCUGAUUGGGAUUUCCAUGUUCUUAUUAAAAAUCUA\n",
            "\n",
            "In read_seq_graphprot, name is NM_001009924_1379_1418;chr20,5080847,5080887,-\n",
            "\n",
            "In read_seq_graphprot, seq is AAUAUCUGAGUAUAUUAUCCUGUACACUUAUCCCUACCUUCAUGUUCCAGUGGAAGACCUUAGUAAAAUCAAAGAUCAGUGAGUUCAUCUGUAAUAUUUUUUUUACUUGCUUUCUUACUGACAGCAACCAGGAAUUUUUUUAUCCUGCAGAGCAAGUUUUCAAAAUGUAAAUACUUCCUCUGUUUAACAGUCCUUGGACCAUUCUGAUCCAGUUCACCAGUAGGUUGGACAGCAUAUAAUUUGCAUCAUUUUGUCCCUUGUAAAUCAAGAUGUUCUGCAGAUUAUUCCUUUAACGGCCGGACUUUUGGCUGUUUCCUAAUGAAACAUGUAGUGGUUAUU\n",
            "\n",
            "In get_data, data has length 7\n"
          ],
          "name": "stdout"
        }
      ]
    },
    {
      "cell_type": "code",
      "metadata": {
        "id": "teYcatCZAsBa"
      },
      "source": [
        "f = np.array(f)\r\n",
        "f = np.swapaxes(f, -1, 1)"
      ],
      "execution_count": null,
      "outputs": []
    },
    {
      "cell_type": "code",
      "metadata": {
        "colab": {
          "base_uri": "https://localhost:8080/"
        },
        "id": "69WqwX1BBiIn",
        "outputId": "4b4c928c-f15a-46b2-e828-4adf395bc9e5"
      },
      "source": [
        "f"
      ],
      "execution_count": null,
      "outputs": [
        {
          "output_type": "execute_result",
          "data": {
            "text/plain": [
              "array([[[[0.25],\n",
              "         [0.25],\n",
              "         [0.25],\n",
              "         [0.25]],\n",
              "\n",
              "        [[0.25],\n",
              "         [0.25],\n",
              "         [0.25],\n",
              "         [0.25]],\n",
              "\n",
              "        [[0.25],\n",
              "         [0.25],\n",
              "         [0.25],\n",
              "         [0.25]],\n",
              "\n",
              "        ...,\n",
              "\n",
              "        [[0.25],\n",
              "         [0.25],\n",
              "         [0.25],\n",
              "         [0.25]],\n",
              "\n",
              "        [[0.25],\n",
              "         [0.25],\n",
              "         [0.25],\n",
              "         [0.25]],\n",
              "\n",
              "        [[0.25],\n",
              "         [0.25],\n",
              "         [0.25],\n",
              "         [0.25]]],\n",
              "\n",
              "\n",
              "       [[[0.25],\n",
              "         [0.25],\n",
              "         [0.25],\n",
              "         [0.25]],\n",
              "\n",
              "        [[0.25],\n",
              "         [0.25],\n",
              "         [0.25],\n",
              "         [0.25]],\n",
              "\n",
              "        [[0.25],\n",
              "         [0.25],\n",
              "         [0.25],\n",
              "         [0.25]],\n",
              "\n",
              "        ...,\n",
              "\n",
              "        [[0.25],\n",
              "         [0.25],\n",
              "         [0.25],\n",
              "         [0.25]],\n",
              "\n",
              "        [[0.25],\n",
              "         [0.25],\n",
              "         [0.25],\n",
              "         [0.25]],\n",
              "\n",
              "        [[0.25],\n",
              "         [0.25],\n",
              "         [0.25],\n",
              "         [0.25]]],\n",
              "\n",
              "\n",
              "       [[[0.25],\n",
              "         [0.25],\n",
              "         [0.25],\n",
              "         [0.25]],\n",
              "\n",
              "        [[0.25],\n",
              "         [0.25],\n",
              "         [0.25],\n",
              "         [0.25]],\n",
              "\n",
              "        [[0.25],\n",
              "         [0.25],\n",
              "         [0.25],\n",
              "         [0.25]],\n",
              "\n",
              "        ...,\n",
              "\n",
              "        [[0.25],\n",
              "         [0.25],\n",
              "         [0.25],\n",
              "         [0.25]],\n",
              "\n",
              "        [[0.25],\n",
              "         [0.25],\n",
              "         [0.25],\n",
              "         [0.25]],\n",
              "\n",
              "        [[0.25],\n",
              "         [0.25],\n",
              "         [0.25],\n",
              "         [0.25]]],\n",
              "\n",
              "\n",
              "       ...,\n",
              "\n",
              "\n",
              "       [[[0.25],\n",
              "         [0.25],\n",
              "         [0.25],\n",
              "         [0.25]],\n",
              "\n",
              "        [[0.25],\n",
              "         [0.25],\n",
              "         [0.25],\n",
              "         [0.25]],\n",
              "\n",
              "        [[0.25],\n",
              "         [0.25],\n",
              "         [0.25],\n",
              "         [0.25]],\n",
              "\n",
              "        ...,\n",
              "\n",
              "        [[0.25],\n",
              "         [0.25],\n",
              "         [0.25],\n",
              "         [0.25]],\n",
              "\n",
              "        [[0.25],\n",
              "         [0.25],\n",
              "         [0.25],\n",
              "         [0.25]],\n",
              "\n",
              "        [[0.25],\n",
              "         [0.25],\n",
              "         [0.25],\n",
              "         [0.25]]],\n",
              "\n",
              "\n",
              "       [[[0.25],\n",
              "         [0.25],\n",
              "         [0.25],\n",
              "         [0.25]],\n",
              "\n",
              "        [[0.25],\n",
              "         [0.25],\n",
              "         [0.25],\n",
              "         [0.25]],\n",
              "\n",
              "        [[0.25],\n",
              "         [0.25],\n",
              "         [0.25],\n",
              "         [0.25]],\n",
              "\n",
              "        ...,\n",
              "\n",
              "        [[0.25],\n",
              "         [0.25],\n",
              "         [0.25],\n",
              "         [0.25]],\n",
              "\n",
              "        [[0.25],\n",
              "         [0.25],\n",
              "         [0.25],\n",
              "         [0.25]],\n",
              "\n",
              "        [[0.25],\n",
              "         [0.25],\n",
              "         [0.25],\n",
              "         [0.25]]],\n",
              "\n",
              "\n",
              "       [[[0.25],\n",
              "         [0.25],\n",
              "         [0.25],\n",
              "         [0.25]],\n",
              "\n",
              "        [[0.25],\n",
              "         [0.25],\n",
              "         [0.25],\n",
              "         [0.25]],\n",
              "\n",
              "        [[0.25],\n",
              "         [0.25],\n",
              "         [0.25],\n",
              "         [0.25]],\n",
              "\n",
              "        ...,\n",
              "\n",
              "        [[0.25],\n",
              "         [0.25],\n",
              "         [0.25],\n",
              "         [0.25]],\n",
              "\n",
              "        [[0.25],\n",
              "         [0.25],\n",
              "         [0.25],\n",
              "         [0.25]],\n",
              "\n",
              "        [[0.25],\n",
              "         [0.25],\n",
              "         [0.25],\n",
              "         [0.25]]]])"
            ]
          },
          "metadata": {
            "tags": []
          },
          "execution_count": 34
        }
      ]
    },
    {
      "cell_type": "code",
      "metadata": {
        "id": "MWzqq7EhB3Bh"
      },
      "source": [
        ""
      ],
      "execution_count": null,
      "outputs": []
    }
  ]
}